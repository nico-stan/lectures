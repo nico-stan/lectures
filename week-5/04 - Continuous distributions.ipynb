{
 "cells": [
  {
   "cell_type": "markdown",
   "metadata": {
    "lang": "en"
   },
   "source": [
    "# Continuous probability distributions"
   ]
  },
  {
   "cell_type": "markdown",
   "metadata": {},
   "source": [
    "![ungif](https://media.giphy.com/media/RhHHTsjhLvfWw/giphy.gif)"
   ]
  },
  {
   "cell_type": "markdown",
   "metadata": {
    "toc": true
   },
   "source": [
    "<h1>Table of Contents<span class=\"tocSkip\"></span></h1>\n",
    "<div class=\"toc\"><ul class=\"toc-item\"><li><span><a href=\"#Continuous-probability-distributions\" data-toc-modified-id=\"Continuous-probability-distributions-1\"><span class=\"toc-item-num\">1&nbsp;&nbsp;</span>Continuous probability distributions</a></span></li><li><span><a href=\"#Uniform-distribution\" data-toc-modified-id=\"Uniform-distribution-2\"><span class=\"toc-item-num\">2&nbsp;&nbsp;</span>Uniform distribution</a></span><ul class=\"toc-item\"><li><span><a href=\"#Uniform-distribution-on-the-interval-[0,-1]\" data-toc-modified-id=\"Uniform-distribution-on-the-interval-[0,-1]-2.1\"><span class=\"toc-item-num\">2.1&nbsp;&nbsp;</span>Uniform distribution on the interval [0, 1]</a></span></li><li><span><a href=\"#Cumulative-distribution-function\" data-toc-modified-id=\"Cumulative-distribution-function-2.2\"><span class=\"toc-item-num\">2.2&nbsp;&nbsp;</span>Cumulative distribution function</a></span></li><li><span><a href=\"#Uniform-distribution-on-the-interval-[a,-b]\" data-toc-modified-id=\"Uniform-distribution-on-the-interval-[a,-b]-2.3\"><span class=\"toc-item-num\">2.3&nbsp;&nbsp;</span>Uniform distribution on the interval [a, b]</a></span></li><li><span><a href=\"#Plot-the-CDF\" data-toc-modified-id=\"Plot-the-CDF-2.4\"><span class=\"toc-item-num\">2.4&nbsp;&nbsp;</span>Plot the CDF</a></span></li></ul></li><li><span><a href=\"#Exponential-distribution\" data-toc-modified-id=\"Exponential-distribution-3\"><span class=\"toc-item-num\">3&nbsp;&nbsp;</span>Exponential distribution</a></span><ul class=\"toc-item\"><li><span><a href=\"#Not-to-be-confused-with-Poisson...-Be-careful!\" data-toc-modified-id=\"Not-to-be-confused-with-Poisson...-Be-careful!-3.1\"><span class=\"toc-item-num\">3.1&nbsp;&nbsp;</span>Not to be confused with Poisson... Be careful!</a></span></li><li><span><a href=\"#Probability-Distribution-Function-(PDF)\" data-toc-modified-id=\"Probability-Distribution-Function-(PDF)-3.2\"><span class=\"toc-item-num\">3.2&nbsp;&nbsp;</span>Probability Distribution Function (PDF)</a></span></li></ul></li><li><span><a href=\"#Normal-distribution\" data-toc-modified-id=\"Normal-distribution-4\"><span class=\"toc-item-num\">4&nbsp;&nbsp;</span>Normal distribution</a></span><ul class=\"toc-item\"><li><ul class=\"toc-item\"><li><span><a href=\"#Intro\" data-toc-modified-id=\"Intro-4.0.1\"><span class=\"toc-item-num\">4.0.1&nbsp;&nbsp;</span>Intro</a></span></li><li><span><a href=\"#scipy's-norm\" data-toc-modified-id=\"scipy's-norm-4.0.2\"><span class=\"toc-item-num\">4.0.2&nbsp;&nbsp;</span>scipy's <code>norm</code></a></span></li><li><span><a href=\"#We-sample-with-normal\" data-toc-modified-id=\"We-sample-with-normal-4.0.3\"><span class=\"toc-item-num\">4.0.3&nbsp;&nbsp;</span>We sample with normal</a></span></li><li><span><a href=\"#Probability-density-function\" data-toc-modified-id=\"Probability-density-function-4.0.4\"><span class=\"toc-item-num\">4.0.4&nbsp;&nbsp;</span>Probability density function</a></span></li><li><span><a href=\"#Percent-point-function-(PPF)\" data-toc-modified-id=\"Percent-point-function-(PPF)-4.0.5\"><span class=\"toc-item-num\">4.0.5&nbsp;&nbsp;</span>Percent point function (PPF)</a></span></li></ul></li><li><span><a href=\"#Other-continuous-probability-distributions\" data-toc-modified-id=\"Other-continuous-probability-distributions-4.1\"><span class=\"toc-item-num\">4.1&nbsp;&nbsp;</span>Other continuous probability distributions</a></span></li></ul></li><li><span><a href=\"#Summary\" data-toc-modified-id=\"Summary-5\"><span class=\"toc-item-num\">5&nbsp;&nbsp;</span>Summary</a></span></li></ul></div>"
   ]
  },
  {
   "cell_type": "code",
   "execution_count": 183,
   "metadata": {},
   "outputs": [],
   "source": [
    "# Viz mantra\n",
    "from matplotlib import pyplot as plt\n",
    "%matplotlib inline\n",
    "%config Inlinebackend.figure_format = 'retina'\n",
    "\n",
    "import seaborn as sns\n",
    "sns.set_context('poster')\n",
    "sns.set(rc={'figure.figsize': (16., 9.)})\n",
    "sns.set_style('whitegrid')\n",
    "\n",
    "import pylab as p\n",
    "import numpy as np\n",
    "import pandas as pd"
   ]
  },
  {
   "cell_type": "markdown",
   "metadata": {
    "lang": "en"
   },
   "source": [
    "## Continuous probability distributions"
   ]
  },
  {
   "cell_type": "markdown",
   "metadata": {
    "lang": "en"
   },
   "source": [
    "**Continuous probability distributions** are those that can take any value in a given range. In particular, they can take infinitely many different values.\n",
    "\n",
    "X is a continuous random variable.\n",
    "\n",
    "X follows a continuous probability distribution."
   ]
  },
  {
   "cell_type": "markdown",
   "metadata": {
    "lang": "en"
   },
   "source": [
    "## Uniform distribution"
   ]
  },
  {
   "cell_type": "markdown",
   "metadata": {
    "lang": "en"
   },
   "source": [
    "### Uniform distribution on the interval [0, 1]\n",
    "All numbers in the integer [0, 1] are equally likely\n",
    "In a continuous probability distribution, it only makes sense to talk about the probability of an interval, not a particular number."
   ]
  },
  {
   "cell_type": "markdown",
   "metadata": {},
   "source": [
    "<img src=\"https://upload.wikimedia.org/wikipedia/commons/thumb/2/28/Unit-interval.svg/1200px-Unit-interval.svg.png\" width=500>"
   ]
  },
  {
   "cell_type": "markdown",
   "metadata": {},
   "source": [
    "$P(x \\leq 0.4)=0.4$"
   ]
  },
  {
   "cell_type": "markdown",
   "metadata": {},
   "source": [
    "$P(x \\geq 0.7)=0.3$"
   ]
  },
  {
   "cell_type": "markdown",
   "metadata": {},
   "source": [
    "$P(x \\leq 1)= 1$"
   ]
  },
  {
   "cell_type": "markdown",
   "metadata": {},
   "source": [
    "$P(x \\geq 0)=1$"
   ]
  },
  {
   "cell_type": "markdown",
   "metadata": {},
   "source": [
    "$P(0.1 \\leq x \\leq 0.4)=0.4 - 0.1=0.3$"
   ]
  },
  {
   "cell_type": "markdown",
   "metadata": {
    "lang": "en"
   },
   "source": [
    "For every number $c, d \\in [0, 1]$ we have"
   ]
  },
  {
   "cell_type": "markdown",
   "metadata": {
    "colab_type": "text",
    "id": "5dn6JLn8GhnC"
   },
   "source": [
    "$$P(c < x <= d) = d-c$$"
   ]
  },
  {
   "cell_type": "markdown",
   "metadata": {
    "lang": "en"
   },
   "source": [
    "Let's use distribution instantiation in Python to generate samples from a $U(0, 1)$ distribution."
   ]
  },
  {
   "cell_type": "code",
   "execution_count": 2,
   "metadata": {},
   "outputs": [],
   "source": [
    "from scipy.stats import uniform"
   ]
  },
  {
   "cell_type": "code",
   "execution_count": 93,
   "metadata": {},
   "outputs": [],
   "source": [
    "my_uniform = uniform(0,1)"
   ]
  },
  {
   "cell_type": "code",
   "execution_count": 94,
   "metadata": {},
   "outputs": [
    {
     "data": {
      "text/plain": [
       "array([0.68208104])"
      ]
     },
     "execution_count": 94,
     "metadata": {},
     "output_type": "execute_result"
    }
   ],
   "source": [
    "my_uniform.rvs(1)"
   ]
  },
  {
   "cell_type": "code",
   "execution_count": 82,
   "metadata": {},
   "outputs": [
    {
     "data": {
      "text/plain": [
       "array([5.11020617, 7.29537972, 5.19828218, 7.98610811, 6.75211644,\n",
       "       7.78198958, 8.91318534, 5.47807033, 6.55477133, 4.12193405])"
      ]
     },
     "execution_count": 82,
     "metadata": {},
     "output_type": "execute_result"
    }
   ],
   "source": [
    "sample = my_uniform.rvs(10)\n",
    "sample"
   ]
  },
  {
   "cell_type": "code",
   "execution_count": 83,
   "metadata": {},
   "outputs": [
    {
     "data": {
      "image/png": "[encoded data removed]",
      "text/plain": [
       "<Figure size 1152x648 with 1 Axes>"
      ]
     },
     "metadata": {},
     "output_type": "display_data"
    }
   ],
   "source": [
    "sns.histplot(sample);"
   ]
  },
  {
   "cell_type": "code",
   "execution_count": 84,
   "metadata": {},
   "outputs": [],
   "source": [
    "sample = my_uniform.rvs(size=100)"
   ]
  },
  {
   "cell_type": "code",
   "execution_count": 85,
   "metadata": {},
   "outputs": [
    {
     "data": {
      "image/png": "[encoded data removed]",
      "text/plain": [
       "<Figure size 1152x648 with 1 Axes>"
      ]
     },
     "metadata": {},
     "output_type": "display_data"
    }
   ],
   "source": [
    "sns.histplot(sample);"
   ]
  },
  {
   "cell_type": "code",
   "execution_count": 86,
   "metadata": {},
   "outputs": [
    {
     "data": {
      "image/png": "[encoded data removed]",
      "text/plain": [
       "<Figure size 1152x648 with 1 Axes>"
      ]
     },
     "metadata": {},
     "output_type": "display_data"
    }
   ],
   "source": [
    "sample = my_uniform.rvs(size=1000)\n",
    "sns.histplot(sample, stat=\"percent\");"
   ]
  },
  {
   "cell_type": "code",
   "execution_count": 87,
   "metadata": {},
   "outputs": [
    {
     "data": {
      "text/plain": [
       "6.957102090694504"
      ]
     },
     "execution_count": 87,
     "metadata": {},
     "output_type": "execute_result"
    }
   ],
   "source": [
    "sample.mean()"
   ]
  },
  {
   "cell_type": "code",
   "execution_count": 88,
   "metadata": {},
   "outputs": [
    {
     "data": {
      "text/plain": [
       "1.7024264372076698"
      ]
     },
     "execution_count": 88,
     "metadata": {},
     "output_type": "execute_result"
    }
   ],
   "source": [
    "sample.std()"
   ]
  },
  {
   "cell_type": "code",
   "execution_count": 89,
   "metadata": {},
   "outputs": [
    {
     "data": {
      "text/plain": [
       "7.0"
      ]
     },
     "execution_count": 89,
     "metadata": {},
     "output_type": "execute_result"
    }
   ],
   "source": [
    "my_uniform.mean()"
   ]
  },
  {
   "cell_type": "code",
   "execution_count": 90,
   "metadata": {},
   "outputs": [
    {
     "data": {
      "text/plain": [
       "1.7320508075688772"
      ]
     },
     "execution_count": 90,
     "metadata": {},
     "output_type": "execute_result"
    }
   ],
   "source": [
    "my_uniform.std()"
   ]
  },
  {
   "cell_type": "markdown",
   "metadata": {
    "lang": "en"
   },
   "source": [
    "### Cumulative distribution function"
   ]
  },
  {
   "cell_type": "markdown",
   "metadata": {
    "lang": "en"
   },
   "source": [
    "The PMF is a way to describe the distribution of a discrete random variable... but the PMF cannot be defined for continuous random variables. The cumulative distribution function (CDF) of a random variable is another method of describing the distribution of random variables. The advantage of the CDF is that it can be defined for any type of random variable (as we have already seen in the case of discrete variables)."
   ]
  },
  {
   "cell_type": "markdown",
   "metadata": {
    "lang": "en"
   },
   "source": [
    "`.cdf(x)` tells us the probability of $X<x$"
   ]
  },
  {
   "cell_type": "markdown",
   "metadata": {
    "lang": "en"
   },
   "source": [
    "So, **what is the probability that a number less than 1 will come up?**"
   ]
  },
  {
   "cell_type": "code",
   "execution_count": 95,
   "metadata": {},
   "outputs": [
    {
     "data": {
      "text/plain": [
       "1.0"
      ]
     },
     "execution_count": 95,
     "metadata": {},
     "output_type": "execute_result"
    }
   ],
   "source": [
    "my_uniform.cdf(1)"
   ]
  },
  {
   "cell_type": "markdown",
   "metadata": {
    "lang": "en"
   },
   "source": [
    "What if a number less than 0 comes out?"
   ]
  },
  {
   "cell_type": "code",
   "execution_count": 96,
   "metadata": {},
   "outputs": [
    {
     "data": {
      "text/plain": [
       "0.0"
      ]
     },
     "execution_count": 96,
     "metadata": {},
     "output_type": "execute_result"
    }
   ],
   "source": [
    "my_uniform.cdf(0)"
   ]
  },
  {
   "cell_type": "code",
   "execution_count": 111,
   "metadata": {
    "lang": "en"
   },
   "outputs": [
    {
     "data": {
      "text/plain": [
       "0.5"
      ]
     },
     "execution_count": 111,
     "metadata": {},
     "output_type": "execute_result"
    }
   ],
   "source": [
    "# Probability of rolling a number less than 0.5\n",
    "my_uniform.cdf(0.5)"
   ]
  },
  {
   "cell_type": "code",
   "execution_count": 115,
   "metadata": {},
   "outputs": [
    {
     "data": {
      "text/plain": [
       "0.4"
      ]
     },
     "execution_count": 115,
     "metadata": {},
     "output_type": "execute_result"
    }
   ],
   "source": [
    "my_uniform.cdf(0.4)"
   ]
  },
  {
   "cell_type": "markdown",
   "metadata": {
    "lang": "en"
   },
   "source": [
    "It happens that... What is the probability that I get a number between 0.2 and 0.7? Well, then the probability is that I get a number less than 0.7 and subtract the probability that I get a number less than 0.2....\n",
    "$P(0.2 < X < 0.7) = P(X < 0.7) - P(X < 0.2)$"
   ]
  },
  {
   "cell_type": "markdown",
   "metadata": {
    "lang": "en"
   },
   "source": [
    "Then\n",
    "$P(X < 0.2) + P(0.2 < X < 0.7) = P(X < 0.7)$"
   ]
  },
  {
   "cell_type": "code",
   "execution_count": 116,
   "metadata": {},
   "outputs": [
    {
     "data": {
      "text/plain": [
       "0.49999999999999994"
      ]
     },
     "execution_count": 116,
     "metadata": {},
     "output_type": "execute_result"
    }
   ],
   "source": [
    "my_uniform.cdf(0.7) - my_uniform.cdf(0.2)"
   ]
  },
  {
   "cell_type": "markdown",
   "metadata": {
    "lang": "en"
   },
   "source": [
    "### Uniform distribution on the interval [a, b]"
   ]
  },
  {
   "cell_type": "markdown",
   "metadata": {
    "lang": "en"
   },
   "source": [
    "All numbers in the interval [a, b] are equiprobable"
   ]
  },
  {
   "cell_type": "markdown",
   "metadata": {},
   "source": [
    "$X \\sim U(a, b)$"
   ]
  },
  {
   "cell_type": "markdown",
   "metadata": {},
   "source": [
    "$P(x \\leq b)=1$"
   ]
  },
  {
   "cell_type": "markdown",
   "metadata": {},
   "source": [
    "$P(x \\geq a)=1$"
   ]
  },
  {
   "cell_type": "markdown",
   "metadata": {
    "lang": "en"
   },
   "source": [
    "$\\frac{a+b}{2}$ is the mean between $a$ and $b$"
   ]
  },
  {
   "cell_type": "markdown",
   "metadata": {},
   "source": [
    "$P(x \\leq \\frac{a+b}{2})=0.5$"
   ]
  },
  {
   "cell_type": "markdown",
   "metadata": {
    "lang": "en"
   },
   "source": [
    "Let's use distribution instantiation in Python to generate samples from a $U(a, b)$ distribution."
   ]
  },
  {
   "cell_type": "code",
   "execution_count": 117,
   "metadata": {},
   "outputs": [],
   "source": [
    "from scipy.stats import uniform"
   ]
  },
  {
   "cell_type": "code",
   "execution_count": 118,
   "metadata": {},
   "outputs": [],
   "source": [
    "a,b = 4,10"
   ]
  },
  {
   "cell_type": "markdown",
   "metadata": {},
   "source": [
    "`uniform` receives `a` y `h`"
   ]
  },
  {
   "cell_type": "code",
   "execution_count": 119,
   "metadata": {
    "lang": "en"
   },
   "outputs": [
    {
     "data": {
      "text/plain": [
       "6"
      ]
     },
     "execution_count": 119,
     "metadata": {},
     "output_type": "execute_result"
    }
   ],
   "source": [
    "# A, is is the start and H is the length of the interval, so I have to calculate it for myself\n",
    "h = b - a\n",
    "h"
   ]
  },
  {
   "cell_type": "code",
   "execution_count": 120,
   "metadata": {
    "lang": "en"
   },
   "outputs": [],
   "source": [
    "# instantiate my uniform distribution\n",
    "my_uniform = uniform(loc=a, scale=h) # The arguments are called loc and scale but do not need to be named"
   ]
  },
  {
   "cell_type": "markdown",
   "metadata": {},
   "source": [
    "`.rvs` generates a sample drawn from the distribution"
   ]
  },
  {
   "cell_type": "code",
   "execution_count": 123,
   "metadata": {
    "lang": "en"
   },
   "outputs": [
    {
     "data": {
      "text/plain": [
       "array([7.54109339])"
      ]
     },
     "execution_count": 123,
     "metadata": {},
     "output_type": "execute_result"
    }
   ],
   "source": [
    "# Generate random samples...\n",
    "my_uniform.rvs(1)"
   ]
  },
  {
   "cell_type": "code",
   "execution_count": 124,
   "metadata": {
    "lang": "en"
   },
   "outputs": [],
   "source": [
    "# Generate 100 samples\n",
    "sample = my_uniform.rvs(100)\n",
    "#sample"
   ]
  },
  {
   "cell_type": "markdown",
   "metadata": {
    "lang": "en"
   },
   "source": [
    "What will the mean be?"
   ]
  },
  {
   "cell_type": "code",
   "execution_count": 125,
   "metadata": {
    "lang": "en"
   },
   "outputs": [
    {
     "data": {
      "text/plain": [
       "7.009453135766964"
      ]
     },
     "execution_count": 125,
     "metadata": {},
     "output_type": "execute_result"
    }
   ],
   "source": [
    "sample.mean() # Here I apply the mean to an experiment, mean of np (rvs returns an array)"
   ]
  },
  {
   "cell_type": "code",
   "execution_count": 126,
   "metadata": {
    "lang": "en"
   },
   "outputs": [
    {
     "data": {
      "text/plain": [
       "7.0"
      ]
     },
     "execution_count": 126,
     "metadata": {},
     "output_type": "execute_result"
    }
   ],
   "source": [
    "my_uniform.mean() # Theoretical mean / uniform object method"
   ]
  },
  {
   "cell_type": "code",
   "execution_count": 127,
   "metadata": {},
   "outputs": [
    {
     "data": {
      "image/png": "[encoded data removed]",
      "text/plain": [
       "<Figure size 1152x648 with 1 Axes>"
      ]
     },
     "metadata": {},
     "output_type": "display_data"
    }
   ],
   "source": [
    "sns.histplot(sample);"
   ]
  },
  {
   "cell_type": "markdown",
   "metadata": {
    "lang": "en"
   },
   "source": [
    "`.cdf` Come on, cdf is easy!\n",
    "`.cdf(x)` Remember, it gives us the probability that a number is $X<x$"
   ]
  },
  {
   "cell_type": "code",
   "execution_count": 128,
   "metadata": {
    "lang": "en"
   },
   "outputs": [
    {
     "data": {
      "text/plain": [
       "1.0"
      ]
     },
     "execution_count": 128,
     "metadata": {},
     "output_type": "execute_result"
    }
   ],
   "source": [
    "# Probability of rolling a number less than 11\n",
    "my_uniform.cdf(11)"
   ]
  },
  {
   "cell_type": "code",
   "execution_count": 129,
   "metadata": {
    "lang": "en"
   },
   "outputs": [],
   "source": [
    "# Less than 10"
   ]
  },
  {
   "cell_type": "code",
   "execution_count": 130,
   "metadata": {},
   "outputs": [
    {
     "data": {
      "text/plain": [
       "1.0"
      ]
     },
     "execution_count": 130,
     "metadata": {},
     "output_type": "execute_result"
    }
   ],
   "source": [
    "my_uniform.cdf(10)"
   ]
  },
  {
   "cell_type": "code",
   "execution_count": 131,
   "metadata": {},
   "outputs": [
    {
     "data": {
      "text/plain": [
       "0.9833333333333334"
      ]
     },
     "execution_count": 131,
     "metadata": {},
     "output_type": "execute_result"
    }
   ],
   "source": [
    "my_uniform.cdf(9.9)"
   ]
  },
  {
   "cell_type": "code",
   "execution_count": 132,
   "metadata": {},
   "outputs": [
    {
     "data": {
      "text/plain": [
       "0.0"
      ]
     },
     "execution_count": 132,
     "metadata": {},
     "output_type": "execute_result"
    }
   ],
   "source": [
    "my_uniform.cdf(4)"
   ]
  },
  {
   "cell_type": "markdown",
   "metadata": {
    "lang": "en"
   },
   "source": [
    "### Plot the CDF\n",
    "X --> I choose a series of points\n",
    "\n",
    "Y --> I get the cdf of those points taking into account my uniform distribution that we remember that we have initialized between 4 and 10"
   ]
  },
  {
   "cell_type": "code",
   "execution_count": 133,
   "metadata": {},
   "outputs": [
    {
     "data": {
      "image/png": "[encoded data removed]",
      "text/plain": [
       "<Figure size 1152x648 with 1 Axes>"
      ]
     },
     "metadata": {},
     "output_type": "display_data"
    }
   ],
   "source": [
    "x = np.linspace(0, 15, 1000)\n",
    "y = my_uniform.cdf(x)\n",
    "plt.plot(x,y);"
   ]
  },
  {
   "cell_type": "markdown",
   "metadata": {
    "lang": "en"
   },
   "source": [
    "- One thing that we observe in this simple function but that is common to all of them is that the distribution is always increasing.\n",
    "- Takes the value 1 on the right (tends to 1)\n",
    "- The CDF takes the value 0 on the left (and accumulates probability up to 1)"
   ]
  },
  {
   "cell_type": "code",
   "execution_count": 134,
   "metadata": {},
   "outputs": [
    {
     "data": {
      "text/plain": [
       "7.0"
      ]
     },
     "execution_count": 134,
     "metadata": {},
     "output_type": "execute_result"
    }
   ],
   "source": [
    "my_uniform.mean()"
   ]
  },
  {
   "cell_type": "code",
   "execution_count": 135,
   "metadata": {},
   "outputs": [
    {
     "data": {
      "text/plain": [
       "7.009453135766964"
      ]
     },
     "execution_count": 135,
     "metadata": {},
     "output_type": "execute_result"
    }
   ],
   "source": [
    "sample.mean()"
   ]
  },
  {
   "cell_type": "markdown",
   "metadata": {
    "lang": "en"
   },
   "source": [
    "## Exponential distribution"
   ]
  },
  {
   "cell_type": "markdown",
   "metadata": {
    "lang": "en"
   },
   "source": [
    "Model the time it takes for a random event to occur:\n",
    " * Time for the next person to appear in a queue\n",
    " * Time for the next call to occur in the call center\n",
    " * Time for the next radioactive particle to decay\n",
    " * Time for the next DNA element to mutate"
   ]
  },
  {
   "cell_type": "markdown",
   "metadata": {
    "lang": "en"
   },
   "source": [
    "\"The average time of appearance of a new patient is 5 minutes\"\n",
    "\n",
    "\"The time of appearance of a new patient follows an exponential distribution with mean 5\""
   ]
  },
  {
   "cell_type": "markdown",
   "metadata": {
    "lang": "en"
   },
   "source": [
    "### Not to be confused with Poisson... Be careful!\n",
    "The Poisson gave us the number of occurrences in a period of time. I fix the time and the events happen once, or twice, or 7.....\n",
    "The exponential isn't like that though...it's more like I close my eyes, then open them and count the time until the next occurrence happens.\n",
    "The Poisson is a distribution of DISCRETE variables and the exponential is CONTINUOUS."
   ]
  },
  {
   "cell_type": "markdown",
   "metadata": {
    "lang": "en"
   },
   "source": [
    "The exponential is the reciprocal distribution of the Poisson distribution"
   ]
  },
  {
   "cell_type": "markdown",
   "metadata": {
    "lang": "en"
   },
   "source": [
    "⚠️ Curiosity: he exponential distribution has the characteristic of being without memory... I'll let you investigate it on google...."
   ]
  },
  {
   "cell_type": "code",
   "execution_count": 36,
   "metadata": {},
   "outputs": [],
   "source": [
    "from scipy.stats import expon"
   ]
  },
  {
   "cell_type": "markdown",
   "metadata": {
    "lang": "en"
   },
   "source": [
    "The exponential, like the Poisson, is a 1-parameter distribution function.\n",
    "Monoparametric: the time it takes for people to arrive"
   ]
  },
  {
   "cell_type": "markdown",
   "metadata": {},
   "source": [
    "$X \\sim Exp(\\mu)$"
   ]
  },
  {
   "cell_type": "markdown",
   "metadata": {
    "lang": "en"
   },
   "source": [
    "This parameter is the mean, called `mu`, $\\mu$\n",
    "The `scipy` library calls it `scale`"
   ]
  },
  {
   "cell_type": "markdown",
   "metadata": {
    "lang": "en"
   },
   "source": [
    "**EXAMPLE**\n",
    "Let's model the customers who arrive every 30 seconds on average at the supermarket queue"
   ]
  },
  {
   "cell_type": "code",
   "execution_count": 187,
   "metadata": {},
   "outputs": [],
   "source": [
    "my_e = expon(scale=30)"
   ]
  },
  {
   "cell_type": "code",
   "execution_count": 188,
   "metadata": {},
   "outputs": [
    {
     "data": {
      "text/plain": [
       "30.0"
      ]
     },
     "execution_count": 188,
     "metadata": {},
     "output_type": "execute_result"
    }
   ],
   "source": [
    "my_e.mean()"
   ]
  },
  {
   "cell_type": "markdown",
   "metadata": {
    "lang": "en"
   },
   "source": [
    "Let's generate a random sample `.rvs` ... what will we get?"
   ]
  },
  {
   "cell_type": "code",
   "execution_count": 189,
   "metadata": {
    "lang": "en"
   },
   "outputs": [],
   "source": [
    "sample = my_e.rvs(100) #in here I have SECONDS"
   ]
  },
  {
   "cell_type": "code",
   "execution_count": 190,
   "metadata": {},
   "outputs": [
    {
     "data": {
      "text/plain": [
       "array([  6.,  13.,  55.,  13.,   6.,  53.,  22.,  45., 137.,  10.,  15.,\n",
       "        17.,  42.,  27.,   6.,   6.,   3.,  15.,  24.,  26.,  10.,  69.,\n",
       "        19.,   2.,  33.,  28.,   5., 163.,  49.,   7.,  65.,  15.,  33.,\n",
       "         6.,   1.,   2.,  47.,  67.,  27.,   3.,  29.,  24.,   4.,   9.,\n",
       "        40.,  14.,  31.,  12.,  66.,  18.,  92.,  30.,  58.,  15.,  73.,\n",
       "        14.,  27.,  10.,  66.,   1.,  36.,  47.,   5.,  31.,   9.,  22.,\n",
       "        48.,   1.,  69.,  15.,  10.,  14.,  10., 207.,  16.,  35.,   7.,\n",
       "         5.,   9.,   4.,  24.,  19.,  57.,  27.,  26.,  11.,  50.,  70.,\n",
       "        29.,  42.,  35.,  21.,  25.,  99.,  50.,  12.,  10.,  13.,  94.,\n",
       "        78.])"
      ]
     },
     "execution_count": 190,
     "metadata": {},
     "output_type": "execute_result"
    }
   ],
   "source": [
    "sample.round()"
   ]
  },
  {
   "cell_type": "code",
   "execution_count": 191,
   "metadata": {},
   "outputs": [
    {
     "data": {
      "text/plain": [
       "206.7959969043517"
      ]
     },
     "execution_count": 191,
     "metadata": {},
     "output_type": "execute_result"
    }
   ],
   "source": [
    "sample.max()"
   ]
  },
  {
   "cell_type": "code",
   "execution_count": 192,
   "metadata": {},
   "outputs": [
    {
     "data": {
      "text/plain": [
       "<matplotlib.legend.Legend at 0x7fd78f1975b0>"
      ]
     },
     "execution_count": 192,
     "metadata": {},
     "output_type": "execute_result"
    },
    {
     "data": {
      "image/png": "[encoded data removed]",
      "text/plain": [
       "<Figure size 1152x648 with 1 Axes>"
      ]
     },
     "metadata": {},
     "output_type": "display_data"
    }
   ],
   "source": [
    "fig = sns.histplot(sample)\n",
    "fig.axvline(x=sample.mean(), color=\"red\", label=\"media\")\n",
    "fig.legend()"
   ]
  },
  {
   "cell_type": "code",
   "execution_count": 193,
   "metadata": {},
   "outputs": [],
   "source": [
    "sample = my_e.rvs(size=10000)"
   ]
  },
  {
   "cell_type": "code",
   "execution_count": 194,
   "metadata": {},
   "outputs": [
    {
     "data": {
      "text/plain": [
       "<AxesSubplot:ylabel='Count'>"
      ]
     },
     "execution_count": 194,
     "metadata": {},
     "output_type": "execute_result"
    },
    {
     "data": {
      "image/png": "[encoded data removed]",
      "text/plain": [
       "<Figure size 1152x648 with 1 Axes>"
      ]
     },
     "metadata": {},
     "output_type": "display_data"
    }
   ],
   "source": [
    "sns.histplot(sample)"
   ]
  },
  {
   "cell_type": "markdown",
   "metadata": {
    "lang": "en"
   },
   "source": [
    "What did the CDF do? returns the probability that the next one takes LESS than 30 seconds"
   ]
  },
  {
   "cell_type": "code",
   "execution_count": 202,
   "metadata": {},
   "outputs": [
    {
     "data": {
      "text/plain": [
       "0.6321205588285577"
      ]
     },
     "execution_count": 202,
     "metadata": {},
     "output_type": "execute_result"
    }
   ],
   "source": [
    "my_e.cdf(30)"
   ]
  },
  {
   "cell_type": "markdown",
   "metadata": {},
   "source": [
    "### Probability Distribution Function (PDF)"
   ]
  },
  {
   "cell_type": "markdown",
   "metadata": {
    "lang": "en"
   },
   "source": [
    "PDF is the probability density function, the analog of the PMF in discrete ones."
   ]
  },
  {
   "cell_type": "code",
   "execution_count": 196,
   "metadata": {},
   "outputs": [
    {
     "data": {
      "image/png": "[encoded data removed]",
      "text/plain": [
       "<Figure size 1152x648 with 1 Axes>"
      ]
     },
     "metadata": {},
     "output_type": "display_data"
    }
   ],
   "source": [
    "x = np.linspace(0,100,100)\n",
    "y = my_e.pdf(x)\n",
    "plt.plot(x,y);"
   ]
  },
  {
   "cell_type": "markdown",
   "metadata": {
    "lang": "en"
   },
   "source": [
    "The area under the curve is the probability of times in the given interval, so...\n",
    "\n",
    "The high zones are more probable and the low zones less probable, the pdf is not really giving me the probability of each point, what it does is the integral of the function to see how much area there is under the curve.\n",
    "\n",
    "Entire zone is 1 (100%)"
   ]
  },
  {
   "cell_type": "markdown",
   "metadata": {
    "lang": "en"
   },
   "source": [
    "`.cdf` is the cumulative distribution function\n",
    "\n",
    "`.cdf(x)` tells us the probability of $X<x$"
   ]
  },
  {
   "cell_type": "code",
   "execution_count": 151,
   "metadata": {},
   "outputs": [
    {
     "data": {
      "text/plain": [
       "0.28346868942621073"
      ]
     },
     "execution_count": 151,
     "metadata": {},
     "output_type": "execute_result"
    }
   ],
   "source": [
    "my_e.cdf(10)"
   ]
  },
  {
   "cell_type": "code",
   "execution_count": 152,
   "metadata": {},
   "outputs": [
    {
     "data": {
      "text/plain": [
       "0.6321205588285577"
      ]
     },
     "execution_count": 152,
     "metadata": {},
     "output_type": "execute_result"
    }
   ],
   "source": [
    "my_e.cdf(30)"
   ]
  },
  {
   "cell_type": "code",
   "execution_count": 153,
   "metadata": {},
   "outputs": [
    {
     "data": {
      "text/plain": [
       "0.950212931632136"
      ]
     },
     "execution_count": 153,
     "metadata": {},
     "output_type": "execute_result"
    }
   ],
   "source": [
    "my_e.cdf(90)"
   ]
  },
  {
   "cell_type": "markdown",
   "metadata": {
    "lang": "en"
   },
   "source": [
    "The CDF of an exponential distribution:\n",
    "- Start at 0\n",
    "- Ends in 1\n",
    "- It accumulates less and less\n",
    "- It is the integral of the pdf"
   ]
  },
  {
   "cell_type": "code",
   "execution_count": 154,
   "metadata": {},
   "outputs": [
    {
     "data": {
      "image/png": "[encoded data removed]",
      "text/plain": [
       "<Figure size 1152x648 with 1 Axes>"
      ]
     },
     "metadata": {},
     "output_type": "display_data"
    }
   ],
   "source": [
    "x = np.linspace(-5, 100, 100)\n",
    "y = my_e.cdf(x)\n",
    "plt.plot(x,y);"
   ]
  },
  {
   "cell_type": "markdown",
   "metadata": {
    "lang": "en"
   },
   "source": [
    "We recover examples from the beginning:\n",
    "- When will I receive the next call in the call center?\n",
    "\n",
    "I can't know, I know that calls take an average of 11 seconds, and I can more or less calculate the probability that it happens in less or more seconds..."
   ]
  },
  {
   "cell_type": "markdown",
   "metadata": {
    "lang": "en"
   },
   "source": [
    "It is the reciprocal probability to the Poisson... Let's say that if I say that if at the bus stop I have an exponential probability with a mean of 2 minutes, if I fix an hour of time, I could also say that then we have a Poisson with a mean of 30.\n",
    "Poisson measures discrete occurrences, the exponential counts the time until the next occurrence"
   ]
  },
  {
   "cell_type": "markdown",
   "metadata": {
    "lang": "en"
   },
   "source": [
    "## Normal distribution"
   ]
  },
  {
   "cell_type": "markdown",
   "metadata": {},
   "source": [
    "#### Intro"
   ]
  },
  {
   "cell_type": "markdown",
   "metadata": {
    "lang": "en"
   },
   "source": [
    "The normal distribution is the most important probability distribution in statistics, as it fits many natural and social phenomena:\n",
    " * the heights\n",
    " * blood pressure\n",
    " * IQ scores\n",
    "\n",
    "It is also known as the Gaussian distribution or the bell curve."
   ]
  },
  {
   "cell_type": "markdown",
   "metadata": {},
   "source": [
    "#### scipy's `norm`"
   ]
  },
  {
   "cell_type": "code",
   "execution_count": 51,
   "metadata": {},
   "outputs": [],
   "source": [
    "from scipy.stats import norm"
   ]
  },
  {
   "cell_type": "markdown",
   "metadata": {
    "lang": "en"
   },
   "source": [
    "The normal, is a 2-parameter distribution function\n",
    "$X \\sim N(\\mu, \\sigma)$\n",
    "\n",
    "These parameters are:\n",
    " * the mean, called $\\mu$\n",
    " * the standard deviation, $\\sigma$"
   ]
  },
  {
   "cell_type": "markdown",
   "metadata": {},
   "source": [
    "<img src=\"https://upload.wikimedia.org/wikipedia/commons/thumb/7/74/Normal_Distribution_PDF.svg/2560px-Normal_Distribution_PDF.svg.png\" width=700>"
   ]
  },
  {
   "cell_type": "markdown",
   "metadata": {
    "lang": "en"
   },
   "source": [
    "`scipy` calls them `loc` and `scale`"
   ]
  },
  {
   "cell_type": "markdown",
   "metadata": {
    "lang": "en"
   },
   "source": [
    "Let us model a country in which heights have:\n",
    " * an average of 170cm\n",
    " * a deviation of 10cm"
   ]
  },
  {
   "cell_type": "code",
   "execution_count": 203,
   "metadata": {},
   "outputs": [],
   "source": [
    "my_normal = norm(loc=170, scale=10)"
   ]
  },
  {
   "cell_type": "code",
   "execution_count": 204,
   "metadata": {},
   "outputs": [
    {
     "data": {
      "text/plain": [
       "170.0"
      ]
     },
     "execution_count": 204,
     "metadata": {},
     "output_type": "execute_result"
    }
   ],
   "source": [
    "# Theoretical mean\n",
    "my_normal.mean()"
   ]
  },
  {
   "cell_type": "code",
   "execution_count": 205,
   "metadata": {},
   "outputs": [
    {
     "data": {
      "text/plain": [
       "10.0"
      ]
     },
     "execution_count": 205,
     "metadata": {},
     "output_type": "execute_result"
    }
   ],
   "source": [
    "# std\n",
    "my_normal.std()"
   ]
  },
  {
   "cell_type": "markdown",
   "metadata": {
    "lang": "en"
   },
   "source": [
    "#### We sample with normal"
   ]
  },
  {
   "cell_type": "markdown",
   "metadata": {
    "lang": "en"
   },
   "source": [
    "`.rvs` generates a sample drawn from the distribution"
   ]
  },
  {
   "cell_type": "code",
   "execution_count": 206,
   "metadata": {},
   "outputs": [
    {
     "data": {
      "text/plain": [
       "array([183.24810705])"
      ]
     },
     "execution_count": 206,
     "metadata": {},
     "output_type": "execute_result"
    }
   ],
   "source": [
    "my_normal.rvs(size=1)"
   ]
  },
  {
   "cell_type": "code",
   "execution_count": 207,
   "metadata": {},
   "outputs": [
    {
     "data": {
      "text/plain": [
       "array([173.5306462 , 149.70953678])"
      ]
     },
     "execution_count": 207,
     "metadata": {},
     "output_type": "execute_result"
    }
   ],
   "source": [
    "my_normal.rvs(size=2)"
   ]
  },
  {
   "cell_type": "code",
   "execution_count": 208,
   "metadata": {},
   "outputs": [],
   "source": [
    "# Let's see some\n",
    "sample = my_normal.rvs(size=100)"
   ]
  },
  {
   "cell_type": "code",
   "execution_count": 209,
   "metadata": {},
   "outputs": [
    {
     "data": {
      "text/plain": [
       "array([168.73816582, 175.43238003, 171.12311616, 163.58331501,\n",
       "       176.88957111, 178.00826818, 166.43179796, 181.0746157 ,\n",
       "       171.89431004, 193.66399519, 154.87270427, 158.13618198,\n",
       "       187.91484793, 166.81436592, 164.68448933])"
      ]
     },
     "execution_count": 209,
     "metadata": {},
     "output_type": "execute_result"
    }
   ],
   "source": [
    "sample[0:15]"
   ]
  },
  {
   "cell_type": "code",
   "execution_count": 210,
   "metadata": {},
   "outputs": [
    {
     "data": {
      "image/png": "[encoded data removed]",
      "text/plain": [
       "<Figure size 1152x648 with 1 Axes>"
      ]
     },
     "metadata": {},
     "output_type": "display_data"
    }
   ],
   "source": [
    "sns.histplot(sample);"
   ]
  },
  {
   "cell_type": "code",
   "execution_count": 211,
   "metadata": {},
   "outputs": [
    {
     "data": {
      "image/png": "[encoded data removed]",
      "text/plain": [
       "<Figure size 1152x648 with 1 Axes>"
      ]
     },
     "metadata": {},
     "output_type": "display_data"
    }
   ],
   "source": [
    "sample = my_normal.rvs(size=10000)\n",
    "sns.histplot(sample);"
   ]
  },
  {
   "cell_type": "markdown",
   "metadata": {
    "lang": "en"
   },
   "source": [
    "#### Probability density function"
   ]
  },
  {
   "cell_type": "markdown",
   "metadata": {
    "lang": "en"
   },
   "source": [
    "`.pdf` Probability density function.\n",
    "[Wikipedia](https://es.wikipedia.org/wiki/Funci%C3%B3n_de_densidad_de_probability) says that:\n",
    "In probability theory, the probability density function, density function, or simply density of a continuous random variable describes the relative probability according to which said random variable will take a certain value.\n",
    "The probability that the random variable falls in a specific region of the possibility space will be given by the integral of the density of this variable between one and another limit of said region.\n",
    "The probability density function (PDF or PDF in English) is positive throughout its domain and its integral over the entire space is of unit value."
   ]
  },
  {
   "cell_type": "code",
   "execution_count": 214,
   "metadata": {},
   "outputs": [],
   "source": [
    "my_normal_2 = norm(170, 15)"
   ]
  },
  {
   "cell_type": "code",
   "execution_count": 213,
   "metadata": {},
   "outputs": [
    {
     "data": {
      "image/png": "[encoded data removed]",
      "text/plain": [
       "<Figure size 1152x648 with 1 Axes>"
      ]
     },
     "metadata": {},
     "output_type": "display_data"
    }
   ],
   "source": [
    "x = np.linspace(120, 220, 100)\n",
    "y = my_normal.pdf(x)\n",
    "y2 = my_normal_2.pdf(x)\n",
    "plt.plot(x, y)\n",
    "plt.plot(x, y2);"
   ]
  },
  {
   "cell_type": "markdown",
   "metadata": {
    "lang": "en"
   },
   "source": [
    "The PDF in a value of a continuous does not give me much information, it is not the probability that someone measures exactly 160 because we have already said that the probability of that particular value tends to 0. If I tell you what is the probability that someone measures between 160 and 180 you will have to draw two verticals and paint the area under the curve, yes, the information it gives us is that there is more probability of measuring 165 than 160 or in my distribution there are more people who measure 165 than 160"
   ]
  },
  {
   "cell_type": "code",
   "execution_count": 167,
   "metadata": {},
   "outputs": [
    {
     "data": {
      "text/plain": [
       "0.024197072451914336"
      ]
     },
     "execution_count": 167,
     "metadata": {},
     "output_type": "execute_result"
    }
   ],
   "source": [
    "my_normal.pdf(160)"
   ]
  },
  {
   "cell_type": "code",
   "execution_count": 168,
   "metadata": {},
   "outputs": [
    {
     "data": {
      "text/plain": [
       "0.03520653267642995"
      ]
     },
     "execution_count": 168,
     "metadata": {},
     "output_type": "execute_result"
    }
   ],
   "source": [
    "my_normal.pdf(165)"
   ]
  },
  {
   "cell_type": "markdown",
   "metadata": {
    "lang": "en"
   },
   "source": [
    "The total area under the curve is 1"
   ]
  },
  {
   "cell_type": "markdown",
   "metadata": {
    "lang": "en"
   },
   "source": [
    "As this distribution is **continuous**, we cannot ADD several .pdf values, but we have to INTEGRATE (area under the curve) up to 170"
   ]
  },
  {
   "cell_type": "markdown",
   "metadata": {},
   "source": [
    "$P(X < 170)$"
   ]
  },
  {
   "cell_type": "code",
   "execution_count": 169,
   "metadata": {},
   "outputs": [
    {
     "data": {
      "text/plain": [
       "0.5"
      ]
     },
     "execution_count": 169,
     "metadata": {},
     "output_type": "execute_result"
    }
   ],
   "source": [
    "my_normal.cdf(170)"
   ]
  },
  {
   "cell_type": "code",
   "execution_count": 170,
   "metadata": {},
   "outputs": [
    {
     "data": {
      "text/plain": [
       "0.0013498980316300933"
      ]
     },
     "execution_count": 170,
     "metadata": {},
     "output_type": "execute_result"
    }
   ],
   "source": [
    "my_normal.cdf(140)"
   ]
  },
  {
   "cell_type": "code",
   "execution_count": 171,
   "metadata": {},
   "outputs": [
    {
     "data": {
      "text/plain": [
       "0.15865525393145707"
      ]
     },
     "execution_count": 171,
     "metadata": {},
     "output_type": "execute_result"
    }
   ],
   "source": [
    "my_normal.cdf(160)"
   ]
  },
  {
   "cell_type": "code",
   "execution_count": 221,
   "metadata": {},
   "outputs": [
    {
     "data": {
      "image/png": "[encoded data removed]",
      "text/plain": [
       "<Figure size 1152x648 with 1 Axes>"
      ]
     },
     "metadata": {},
     "output_type": "display_data"
    }
   ],
   "source": [
    "x = np.linspace(120, 220, 100)\n",
    "y = my_normal.pdf(x)\n",
    "fill_x = np.linspace(140, 160, 100)\n",
    "plt.fill_between(fill_x, my_normal.pdf(fill_x),color='r')\n",
    "plt.text(153, 0.003, \"0.158\", size=15)\n",
    "plt.plot(x,y);"
   ]
  },
  {
   "cell_type": "code",
   "execution_count": 222,
   "metadata": {},
   "outputs": [
    {
     "data": {
      "text/plain": [
       "0.9986501019683699"
      ]
     },
     "execution_count": 222,
     "metadata": {},
     "output_type": "execute_result"
    }
   ],
   "source": [
    "my_normal.cdf(200)"
   ]
  },
  {
   "cell_type": "markdown",
   "metadata": {
    "lang": "en"
   },
   "source": [
    "What is the proportion of people in the interval ($\\mu - \\sigma, \\mu + \\sigma)$?\n",
    "\n",
    "$P(160 < X < 180)$"
   ]
  },
  {
   "cell_type": "code",
   "execution_count": 174,
   "metadata": {},
   "outputs": [
    {
     "data": {
      "text/plain": [
       "0.6826894921370859"
      ]
     },
     "execution_count": 174,
     "metadata": {},
     "output_type": "execute_result"
    }
   ],
   "source": [
    "my_normal.cdf(180) - my_normal.cdf(160)"
   ]
  },
  {
   "cell_type": "code",
   "execution_count": 175,
   "metadata": {
    "lang": "en"
   },
   "outputs": [],
   "source": [
    "# LET'S PAINT THIS RANGE"
   ]
  },
  {
   "cell_type": "code",
   "execution_count": 176,
   "metadata": {},
   "outputs": [
    {
     "data": {
      "text/plain": [
       "[<matplotlib.lines.Line2D at 0x7fd790306eb0>]"
      ]
     },
     "execution_count": 176,
     "metadata": {},
     "output_type": "execute_result"
    },
    {
     "data": {
      "image/png": "[encoded data removed]",
      "text/plain": [
       "<Figure size 1152x648 with 1 Axes>"
      ]
     },
     "metadata": {},
     "output_type": "display_data"
    }
   ],
   "source": [
    "x = np.linspace(140, 200, 100)\n",
    "y = my_normal.pdf(x)\n",
    "fill_x = np.linspace(160, 180, 100)\n",
    "plt.fill_between(fill_x, my_normal.pdf(fill_x),color='r')\n",
    "plt.text(165, 0.02, \"0.682\", size=15)\n",
    "plt.plot(x,y)"
   ]
  },
  {
   "cell_type": "markdown",
   "metadata": {
    "lang": "en"
   },
   "source": [
    "What is the proportion of people in the interval ($\\mu - 2\\sigma, \\mu + 2\\sigma)$?"
   ]
  },
  {
   "cell_type": "markdown",
   "metadata": {
    "lang": "en"
   },
   "source": [
    "What is the proportion of people in the interval ($\\mu - 3\\sigma, \\mu + 3\\sigma)$?"
   ]
  },
  {
   "cell_type": "code",
   "execution_count": 177,
   "metadata": {},
   "outputs": [
    {
     "data": {
      "text/plain": [
       "170.0"
      ]
     },
     "execution_count": 177,
     "metadata": {},
     "output_type": "execute_result"
    }
   ],
   "source": [
    "my_normal.mean()"
   ]
  },
  {
   "cell_type": "code",
   "execution_count": 178,
   "metadata": {},
   "outputs": [
    {
     "data": {
      "text/plain": [
       "10.0"
      ]
     },
     "execution_count": 178,
     "metadata": {},
     "output_type": "execute_result"
    }
   ],
   "source": [
    "my_normal.std()"
   ]
  },
  {
   "cell_type": "markdown",
   "metadata": {
    "lang": "en"
   },
   "source": [
    "In a normal distribution, this is ALWAYS true."
   ]
  },
  {
   "cell_type": "markdown",
   "metadata": {},
   "source": [
    "<img src=\"https://miro.medium.com/max/700/1*IZ2II2HYKeoMrdLU5jW6Dw.png\" width=800>"
   ]
  },
  {
   "cell_type": "markdown",
   "metadata": {
    "lang": "en"
   },
   "source": [
    "How do you interpret this... we repeat ourselves a bit:\n",
    "\n",
    "Australian lizards measure:\n",
    "- Average 6.2\n",
    "- Standard deviation 1\n",
    "\n",
    "**Means:**\n",
    "- Between 5.2 and 7.2 are 68% of the lizards\n",
    "- Between 4.2 and 8.2 are 95.45% of the lizards\n",
    "- Between 3.2 and 9.2 are 99.73% of the lizards"
   ]
  },
  {
   "cell_type": "markdown",
   "metadata": {
    "lang": "en"
   },
   "source": [
    "#### Percent point function (PPF)\n",
    "Do we remember how this is interpreted?"
   ]
  },
  {
   "cell_type": "code",
   "execution_count": 179,
   "metadata": {},
   "outputs": [
    {
     "data": {
      "text/plain": [
       "178.41621233572914"
      ]
     },
     "execution_count": 179,
     "metadata": {},
     "output_type": "execute_result"
    }
   ],
   "source": [
    "my_normal.ppf(0.8)"
   ]
  },
  {
   "cell_type": "code",
   "execution_count": 180,
   "metadata": {},
   "outputs": [
    {
     "data": {
      "text/plain": [
       "0.7999940553550331"
      ]
     },
     "execution_count": 180,
     "metadata": {},
     "output_type": "execute_result"
    }
   ],
   "source": [
    "my_normal.cdf(178.416)"
   ]
  },
  {
   "cell_type": "code",
   "execution_count": 181,
   "metadata": {},
   "outputs": [
    {
     "data": {
      "text/plain": [
       "170.0"
      ]
     },
     "execution_count": 181,
     "metadata": {},
     "output_type": "execute_result"
    }
   ],
   "source": [
    "my_normal.ppf(0.5)"
   ]
  },
  {
   "cell_type": "markdown",
   "metadata": {
    "lang": "en"
   },
   "source": [
    "Basically it is the [Quantile Function](https://es.wikipedia.org/wiki/Funci%C3%B3n_cuantil), it gives us the inverse and tells us the percentile."
   ]
  },
  {
   "cell_type": "markdown",
   "metadata": {
    "lang": "en"
   },
   "source": [
    "* *CDF(height) = gives us the probability of measuring less than that height\n",
    "* *PPF(probability) = gives us the heightº"
   ]
  },
  {
   "cell_type": "markdown",
   "metadata": {
    "lang": "en"
   },
   "source": [
    "What height is such that 80% of the people are shorter than someone?"
   ]
  },
  {
   "cell_type": "code",
   "execution_count": 182,
   "metadata": {},
   "outputs": [
    {
     "data": {
      "text/plain": [
       "178.41621233572914"
      ]
     },
     "execution_count": 182,
     "metadata": {},
     "output_type": "execute_result"
    }
   ],
   "source": [
    "my_normal.ppf(0.8)"
   ]
  },
  {
   "cell_type": "markdown",
   "metadata": {
    "lang": "en"
   },
   "source": [
    "### Other continuous probability distributions"
   ]
  },
  {
   "cell_type": "markdown",
   "metadata": {
    "lang": "en"
   },
   "source": [
    "* Student's $t$ distribution\n",
    "* Snedecor's $F$ distribution\n",
    "* Chi square distribution"
   ]
  },
  {
   "cell_type": "markdown",
   "metadata": {
    "lang": "en"
   },
   "source": [
    "## Summary\n"
   ]
  },
  {
   "cell_type": "markdown",
   "metadata": {
    "lang": "en"
   },
   "source": [
    "* Random variables model random experiments\n",
    "* We only need a sample space and probabilities to define a random experiment\n",
    "* `.rvs` returns a sample* \n",
    "* `.pmf` returns the probability mass function (discrete distributions)\n",
    "* `.pdf` returns the probability density function (continuous distributions)\n",
    "* `.cdf` returns the mass/cumulative distribution function (discrete/continuous)\n",
    "* `.ppf` returns the inverse cumulative distribution function (discrete/continuous). Also known as quantile function function"
   ]
  }
 ],
 "metadata": {
  "colab": {
   "collapsed_sections": [],
   "name": "ProbabilityDistribution (1).ipynb",
   "provenance": []
  },
  "kernelspec": {
   "display_name": "ironhack",
   "language": "python",
   "name": "ironhack"
  },
  "language_info": {
   "codemirror_mode": {
    "name": "ipython",
    "version": 3
   },
   "file_extension": ".py",
   "mimetype": "text/x-python",
   "name": "python",
   "nbconvert_exporter": "python",
   "pygments_lexer": "ipython3",
   "version": "3.8.13"
  },
  "nbTranslate": {
   "displayLangs": [
    "en",
    "es"
   ],
   "hotkey": "alt-a",
   "langInMainMenu": true,
   "sourceLang": "es",
   "targetLang": "en",
   "useGoogleTranslate": true
  },
  "toc": {
   "base_numbering": 1,
   "nav_menu": {},
   "number_sections": true,
   "sideBar": true,
   "skip_h1_title": true,
   "title_cell": "Table of Contents",
   "title_sidebar": "Contents",
   "toc_cell": true,
   "toc_position": {
    "height": "calc(100% - 180px)",
    "left": "10px",
    "top": "150px",
    "width": "196.832px"
   },
   "toc_section_display": true,
   "toc_window_display": true
  },
  "varInspector": {
   "cols": {
    "lenName": 16,
    "lenType": 16,
    "lenVar": 40
   },
   "kernels_config": {
    "python": {
     "delete_cmd_postfix": "",
     "delete_cmd_prefix": "del ",
     "library": "var_list.py",
     "varRefreshCmd": "print(var_dic_list())"
    },
    "r": {
     "delete_cmd_postfix": ") ",
     "delete_cmd_prefix": "rm(",
     "library": "var_list.r",
     "varRefreshCmd": "cat(var_dic_list()) "
    }
   },
   "types_to_exclude": [
    "module",
    "function",
    "builtin_function_or_method",
    "instance",
    "_Feature"
   ],
   "window_display": false
  }
 },
 "nbformat": 4,
 "nbformat_minor": 1
}
